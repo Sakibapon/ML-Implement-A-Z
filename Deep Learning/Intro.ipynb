{
 "cells": [
  {
   "cell_type": "markdown",
   "metadata": {},
   "source": [
    "# Deep Learning  Introduction"
   ]
  },
  {
   "cell_type": "markdown",
   "metadata": {},
   "source": [
    "<img src=dl1.png height=400 width=600>\n",
    "<img src=dl2.png height=400 width=600>\n",
    "<img src=dl3.png height=400 width=600>\n",
    "<img src=dl4.png height=400 width=600>\n",
    "<img src=dl5.png height=400 width=600>\n",
    "<img src=dl6.png height=400 width=600>\n",
    "<img src=dl7.png height=400 width=600>\n",
    "<img src=dl8.png height=400 width=600>\n",
    "<img src=dl9.png height=400 width=600>\n",
    "<img src=dl10.png height=400 width=600>"
   ]
  },
  {
   "cell_type": "markdown",
   "metadata": {},
   "source": [
    "`pip install tensorflow`\n",
    "\n",
    "`pip install keras`"
   ]
  }
 ],
 "metadata": {
  "kernelspec": {
   "display_name": "Python 3",
   "language": "python",
   "name": "python3"
  },
  "language_info": {
   "codemirror_mode": {
    "name": "ipython",
    "version": 3
   },
   "file_extension": ".py",
   "mimetype": "text/x-python",
   "name": "python",
   "nbconvert_exporter": "python",
   "pygments_lexer": "ipython3",
   "version": "3.7.7"
  }
 },
 "nbformat": 4,
 "nbformat_minor": 4
}
